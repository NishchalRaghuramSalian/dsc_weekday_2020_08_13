{
 "cells": [
  {
   "cell_type": "code",
   "execution_count": 9,
   "metadata": {},
   "outputs": [
    {
     "name": "stdout",
     "output_type": "stream",
     "text": [
      "Enter the number a=900\n",
      "Enter the number b=9\n",
      "TRUE\n"
     ]
    }
   ],
   "source": [
    "#1. WAP to input 2 numbers and check whether the first is divisible by the second and print true or false depending on the divisibility. \n",
    "\n",
    "a= int(input('Enter the number a='))\n",
    "b= int(input('Enter the number b='))\n",
    "\n",
    "if a%b==0:\n",
    "    print('TRUE')\n",
    "else:\n",
    "    print(\"FALSE\")"
   ]
  },
  {
   "cell_type": "code",
   "execution_count": 37,
   "metadata": {},
   "outputs": [
    {
     "name": "stdout",
     "output_type": "stream",
     "text": [
      "enter the string:Naman\n",
      "palindrome\n"
     ]
    }
   ],
   "source": [
    "# 2. In the palindrome example, make the code case insensitive.i.e.\n",
    "#Naman should also be treated as a palindrome (HINT: first convert to either upper or lower case). \n",
    "\n",
    "n=input('enter the string:')\n",
    "n=n.upper() \n",
    "x=n[::-1]\n",
    "if n==x:\n",
    "    print('palindrome')\n",
    "    \n",
    "else:\n",
    "    print('not Palindrome')\n",
    "\n",
    "\n"
   ]
  },
  {
   "cell_type": "code",
   "execution_count": 50,
   "metadata": {},
   "outputs": [
    {
     "name": "stdout",
     "output_type": "stream",
     "text": [
      "side a:10\n",
      "side b:20\n",
      "side c:20\n",
      "isoscles triangle\n"
     ]
    }
   ],
   "source": [
    "#3. WAP to input the sides of a triangle and print whether equilateral(all sides equal), \n",
    "#isosceles (2sides equal), or scalene (no sides equal). \n",
    "\n",
    "a=input('side a:')\n",
    "b=input('side b:')\n",
    "c=input('side c:')\n",
    "\n",
    "if a==b==c:\n",
    "    print('equilateral triangle')\n",
    "elif a==b!=c or a!=b==c:\n",
    "    print('isoscles triangle')\n",
    "elif a!=b!=c:\n",
    "    print('scalene triangle')"
   ]
  },
  {
   "cell_type": "code",
   "execution_count": 56,
   "metadata": {},
   "outputs": [
    {
     "name": "stdout",
     "output_type": "stream",
     "text": [
      "enter the number=187918241648716415\n",
      "ODD\n"
     ]
    }
   ],
   "source": [
    "#4. WAP to input a number and print if it is even or odd. \n",
    "\n",
    "x= int(input('enter the number='))\n",
    "\n",
    "if x%2==0:\n",
    "    print('EVEN')\n",
    "else:\n",
    "    print(\"ODD\")"
   ]
  },
  {
   "cell_type": "code",
   "execution_count": 78,
   "metadata": {},
   "outputs": [
    {
     "name": "stdout",
     "output_type": "stream",
     "text": [
      "Enter the age=45\n",
      "Adult\n"
     ]
    }
   ],
   "source": [
    "#5. WAP to input age and print the respective text depending on the age ranges as present in the table.\n",
    " \n",
    "x=int(input('Enter the age='))\n",
    "\n",
    "if x<=12:\n",
    "    print('Child')\n",
    "elif 13<=x<=17:\n",
    "    print('Teen')\n",
    "elif 18<=x<=50:\n",
    "    print('Adult') \n",
    "elif 51<=x<=100:\n",
    "    print('Senior citizen')\n",
    "else:\n",
    "    print('contratulations')\n",
    "    "
   ]
  },
  {
   "cell_type": "code",
   "execution_count": 9,
   "metadata": {
    "scrolled": true
   },
   "outputs": [
    {
     "name": "stdout",
     "output_type": "stream",
     "text": [
      "Enter the year:1947\n",
      "NOt a leap year\n"
     ]
    }
   ],
   "source": [
    "#6. WAP to input year (check if user enters valid year. Should be 4-digit number and should not be\n",
    "#negative) and print whether leap year or not. (If really interested in why you also have to check\n",
    "#the divisibility by 400 just google the exact time it takes for the earth to revolve around the sub) \n",
    "\n",
    "y=int(input('Enter the year:'))\n",
    "\n",
    "if 999<y>10000:\n",
    "    print('enter valid year')\n",
    "elif y%4==0:\n",
    "    print('Leap year')\n",
    "elif y%100==0:\n",
    "    print('Not a Leap year')\n",
    "elif y%400==0:\n",
    "    print('Leap year')\n",
    "else:\n",
    "    print('NOt a leap year')\n",
    "    \n",
    "    "
   ]
  },
  {
   "cell_type": "code",
   "execution_count": 18,
   "metadata": {},
   "outputs": [
    {
     "name": "stdout",
     "output_type": "stream",
     "text": [
      "Enter the string:nis\n",
      "NIS\n"
     ]
    }
   ],
   "source": [
    "#7. WAP to input a string and convert it to Upper Case if number of characters is odd and convert to lower case otherwise.\n",
    "\n",
    "s=input('Enter the string:')\n",
    "length=len(s)\n",
    "          \n",
    "if len(s)%2!=0:\n",
    "    print(s.upper())\n",
    "    \n",
    "else:\n",
    "    print(s.lower())"
   ]
  },
  {
   "cell_type": "code",
   "execution_count": 39,
   "metadata": {},
   "outputs": [
    {
     "name": "stdout",
     "output_type": "stream",
     "text": [
      "enter the string:egg\n",
      "Non Veg\n"
     ]
    }
   ],
   "source": [
    "#8. WAP to input a string and print Veg if the string doesn’t contain the word egg. Otherwise print Non-Veg. \n",
    "# As usual eggs can be both big and small. \n",
    "\n",
    "v=input('enter the string:')\n",
    "n=\"egg\"\n",
    "if v==n:\n",
    "    print('Non Veg')\n",
    "else:\n",
    "    print('veg')\n"
   ]
  },
  {
   "cell_type": "code",
   "execution_count": 41,
   "metadata": {},
   "outputs": [
    {
     "name": "stdout",
     "output_type": "stream",
     "text": [
      "True\n",
      "True\n",
      "weird!!\n",
      "[4, 3, 2, 1]\n"
     ]
    }
   ],
   "source": [
    "# 9. Give output of: \n",
    "\n",
    "if not 1:\n",
    "    print('False')\n",
    "else:\n",
    "    print('True')\n",
    "    \n",
    "if 1:\n",
    "    print('True')\n",
    "else:\n",
    "    print('False')\n",
    "    \n",
    "if 'a'>'A':\n",
    "    print('weird!!')\n",
    "else:\n",
    "    print('Makes Sense')\n",
    "    \n",
    "a=[1,2,3,4]\n",
    "if 1>1:\n",
    "    a-a[::-1]\n",
    "else:\n",
    "    a=a[-1::-1]\n",
    "print(a)    "
   ]
  },
  {
   "cell_type": "code",
   "execution_count": 48,
   "metadata": {},
   "outputs": [
    {
     "name": "stdout",
     "output_type": "stream",
     "text": [
      "Marks in subject 1=10\n",
      "Marks in subject 2=20\n",
      "Marks in subject 3=20\n",
      "Marks in subject 4=20\n",
      "Marks in subject 5=19\n",
      "89\n",
      "Grade B\n"
     ]
    }
   ],
   "source": [
    "#10. WAP to input marks in 5 subjects and print the grade as per following logic:\n",
    "#% between 90-100 Grade-A\n",
    "#% between 80 - 89 Grade-B\n",
    "#% between 60 - 79 Grade-C\n",
    "#% < 60 Grade-F \n",
    "\n",
    "s1=int(input('Marks in subject 1='))\n",
    "s2=int(input('Marks in subject 2='))\n",
    "s3=int(input('Marks in subject 3='))\n",
    "s4=int(input('Marks in subject 4='))\n",
    "s5=int(input('Marks in subject 5='))\n",
    "\n",
    "s=int(s1+s2+s3+s4+s5)\n",
    "print(s)\n",
    "\n",
    "if 90<=s>=100:\n",
    "    print('Grade A')\n",
    "elif 80<=s>=89:\n",
    "    print(\"Grade B\")\n",
    "elif 60<=s>=7:\n",
    "    print(\"Grade C\")\n",
    "elif s<=60:\n",
    "    print(\"Grade D\")    "
   ]
  },
  {
   "cell_type": "code",
   "execution_count": 3,
   "metadata": {},
   "outputs": [
    {
     "name": "stdout",
     "output_type": "stream",
     "text": [
      "Enter the age52\n",
      "Enter the salary1896700\n",
      "197005.0\n"
     ]
    }
   ],
   "source": [
    "# 11. WAP to input age and salary and calculate Tax as per tax rates if following table: \n",
    "\n",
    "# Salary Range Age < 60 Age >= 60\n",
    "# 0-2,50,000 0 0\n",
    "# 2,50,001-5,00,000 5% 3%\n",
    "# 5,00,001-10,00,000 10% 8%\n",
    "# Salary>10,00,001 15% 12% \n",
    "\n",
    "age=int(input('Enter the age'))\n",
    "salary=int(input('Enter the salary'))\n",
    "tax=0\n",
    "if age>0 and age<60:\n",
    "    if salary>=0 and salary<=250000:\n",
    "        tax=(salary*0)\n",
    "    elif salary>=250001 and salary<=500000:\n",
    "        tax=(250000*0)+((salary-250000)*0.05)\n",
    "    elif salary>=500001 and salary<=1000000:\n",
    "        tax=(250000*0)+(250000*0.05)+((salary-500000)*0.10)\n",
    "    elif salary>=1000001:\n",
    "        tax=(250000*0)+(250000*0.05)+(500000*0.10)+((salary-1000000)*0.15)\n",
    "    else :\n",
    "        print(\"Enter Valid Salary\")\n",
    "elif age>=60:\n",
    "    if salary>=0 and salary<=250000:\n",
    "        tax=(salary*0)\n",
    "    elif salary>=250001 and salary<=500000:\n",
    "        tax=(250000*0)+((salary-250000)*0.03)\n",
    "    elif salary>=500001 and salary<=1000000:\n",
    "        tax=(250000*0)+(250000*0.03)+((salary-500000)*0.08)\n",
    "    elif salary>=1000001:\n",
    "        tax=(250000*0)+(250000*0.03)+(500000*0.08)+((salary-1000000)*0.12)\n",
    "    else :\n",
    "        print(\"Enter Valid Salary\")\n",
    "else:\n",
    "    print(\"Enter Valid Age\")\n",
    "\n",
    "print(tax)\n",
    "    "
   ]
  },
  {
   "cell_type": "code",
   "execution_count": 4,
   "metadata": {},
   "outputs": [
    {
     "name": "stdout",
     "output_type": "stream",
     "text": [
      "10\n"
     ]
    }
   ],
   "source": [
    "#12. Try each of the below statements separately (remember difference between statement and expression) on the python interpreter and guess the output before trying: \n",
    "\n",
    "print(20 if not 1==1else 10)"
   ]
  },
  {
   "cell_type": "code",
   "execution_count": 5,
   "metadata": {},
   "outputs": [
    {
     "name": "stdout",
     "output_type": "stream",
     "text": [
      "10\n"
     ]
    }
   ],
   "source": [
    "print(30 if not 1 == 1 else 20 if 'a' < 'A' else 10)"
   ]
  },
  {
   "cell_type": "code",
   "execution_count": 6,
   "metadata": {},
   "outputs": [
    {
     "name": "stdout",
     "output_type": "stream",
     "text": [
      "10\n"
     ]
    }
   ],
   "source": [
    "print( 40 if not 1 == 1 else 30 if 'a' < 'A' else 20 if '' else 10)"
   ]
  },
  {
   "cell_type": "code",
   "execution_count": 7,
   "metadata": {},
   "outputs": [
    {
     "name": "stdout",
     "output_type": "stream",
     "text": [
      "OMG\n"
     ]
    }
   ],
   "source": [
    "print ('No' if not 1 ==1 else ('No' if 'a' < 'A' else ('OMG' if 'oh!' else \"No\")))"
   ]
  },
  {
   "cell_type": "code",
   "execution_count": 18,
   "metadata": {},
   "outputs": [
    {
     "name": "stdout",
     "output_type": "stream",
     "text": [
      "Enter the weight in kgs =56\n",
      "Enter the Height in meters=1.6\n",
      "21.874999999999996\n",
      "Normal weight\n"
     ]
    }
   ],
   "source": [
    "# 13. WAF: bmi() that takes the weight in kg and height in cm of a person, calculates and returns the BMI.\n",
    "# Write code that calls this function after taking height and weight as inputs and then prints underweight, normal, overweight \n",
    "# or obese depending on the value of BMI.\n",
    "#Refer this link for the ranges:\n",
    "# https://en.wikipedia.org/wiki/Body_mass_index \n",
    "\n",
    "w=int(input('Enter the weight in kgs ='))\n",
    "h=float(input('Enter the Height in meters='))\n",
    "\n",
    "#BMI- Body Mass Index\n",
    "\n",
    "bmi = (w/(h**2))\n",
    "print(bmi)\n",
    "\n",
    "if bmi<=18.5:\n",
    "    print('Under weight')\n",
    "elif bmi>=18.6 and bmi<=25:\n",
    "    print('Normal weight')\n",
    "elif bmi>=25.1 and bmi<=30:\n",
    "    print('Over weight')\n",
    "elif bmi>=30.1:\n",
    "    print('Obese')\n",
    "else:\n",
    "    print('Enter the valid weight and Height')"
   ]
  },
  {
   "cell_type": "code",
   "execution_count": 25,
   "metadata": {},
   "outputs": [
    {
     "name": "stdout",
     "output_type": "stream",
     "text": [
      "Enter the age of 1st person=62\n",
      "Enter the age of 2nd person=54\n",
      "Enter the age of 3rd person=33\n",
      "p1 is oldest\n",
      "p3 is youngest\n"
     ]
    }
   ],
   "source": [
    "# 14. Take input of age of 3 people by user and determine oldest and youngest among them. \n",
    "\n",
    "p1=int(input('Enter the age of 1st person='))\n",
    "p2=int(input('Enter the age of 2nd person='))\n",
    "p3=int(input('Enter the age of 3rd person='))\n",
    "\n",
    "if p1<p2<p3:\n",
    "    print('p3 is oldest')\n",
    "elif p1<p2>p3:\n",
    "    print('p2 is oldest')\n",
    "elif p2<p1>p3:\n",
    "    print('p1 is oldest')\n",
    "else:\n",
    "    print()\n",
    "    \n",
    "if  p2>p1<p3:\n",
    "    print('p1 is youngest')\n",
    "elif p1>p2<p3:\n",
    "    print('p2 is youngest')\n",
    "elif p1>p3<p2:\n",
    "    print('p3 is youngest')\n",
    "else:\n",
    "    print('enter the valid age')\n",
    "    "
   ]
  },
  {
   "cell_type": "code",
   "execution_count": 33,
   "metadata": {},
   "outputs": [
    {
     "name": "stdout",
     "output_type": "stream",
     "text": [
      "Enter the the number=700000000000\n",
      "Divisible by 5\n"
     ]
    }
   ],
   "source": [
    "# 15. WAP to input a number and check if number is divisible by both 5 and 7. \n",
    "\n",
    "n= int(input('Enter the the number='))\n",
    "\n",
    "if n%5==0:\n",
    "    print('Divisible by 5')\n",
    "elif n%7==0:\n",
    "    print('Divisible by 7')\n",
    "else:\n",
    "    print('Non divisible by either 5 & 7')"
   ]
  }
 ],
 "metadata": {
  "kernelspec": {
   "display_name": "Python 3",
   "language": "python",
   "name": "python3"
  },
  "language_info": {
   "codemirror_mode": {
    "name": "ipython",
    "version": 3
   },
   "file_extension": ".py",
   "mimetype": "text/x-python",
   "name": "python",
   "nbconvert_exporter": "python",
   "pygments_lexer": "ipython3",
   "version": "3.8.3"
  }
 },
 "nbformat": 4,
 "nbformat_minor": 4
}
