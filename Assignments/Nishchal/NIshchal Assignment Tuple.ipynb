{
 "cells": [
  {
   "cell_type": "code",
   "execution_count": 8,
   "metadata": {},
   "outputs": [
    {
     "name": "stdout",
     "output_type": "stream",
     "text": [
      "[1, 2, 3, 4, 5]\n"
     ]
    }
   ],
   "source": [
    "# 1. Convert a Tuple t = (1,2,3,4,5) to a list \n",
    "t=1,2,3,4,5\n",
    "x=list(t)\n",
    "print(x)"
   ]
  },
  {
   "cell_type": "code",
   "execution_count": 37,
   "metadata": {},
   "outputs": [
    {
     "name": "stdout",
     "output_type": "stream",
     "text": [
      "[1, 3, 5, 7, 8, 6, 4, 2]\n",
      "[1, 3, 5, 7, 8, 6, 4, 2]\n"
     ]
    }
   ],
   "source": [
    "# 2. WAP to join a list and a tuple:\n",
    "#L = [1,3,5,7]\n",
    " # T = (8,6,4,2) \n",
    "# Store the result in a list LS     \n",
    "l=[1,3,5,7]\n",
    "t=(8,6,4,2)\n",
    "\n",
    "list=[]\n",
    "l.extend(t)\n",
    "print(l)\n",
    "\n",
    "for i in l:\n",
    "    list.append(i)\n",
    "    \n",
    "print(list)"
   ]
  },
  {
   "cell_type": "code",
   "execution_count": null,
   "metadata": {},
   "outputs": [],
   "source": [
    "#3. What is difference between list and tuple. \n"
   ]
  },
  {
   "cell_type": "code",
   "execution_count": 44,
   "metadata": {},
   "outputs": [
    {
     "name": "stdout",
     "output_type": "stream",
     "text": [
      "['C', 'A', 'c', 'd', 'a']\n"
     ]
    }
   ],
   "source": [
    "#4. Print the list in reverse order\n",
    "l = ['a', 'd', 'c', 'A', 'C'] \n",
    "rev=l[::-1]   \n",
    "print(rev)"
   ]
  },
  {
   "cell_type": "code",
   "execution_count": 48,
   "metadata": {},
   "outputs": [
    {
     "name": "stdout",
     "output_type": "stream",
     "text": [
      "[11, 21, 31, 41]\n",
      "[10, 20, 30, 40]\n"
     ]
    }
   ],
   "source": [
    "#5. Print Elements at Odd indexes from a list (Do not use loop)\n",
    "\n",
    "l = [10,11,20, 21,30, 31, 40, 41]\n",
    "\n",
    "#print('even',l%2==0)\n",
    "#print('odd',l%2!=0)\n",
    "\n",
    "print(l[1::2])\n",
    "print(l[0::2])\n"
   ]
  },
  {
   "cell_type": "code",
   "execution_count": null,
   "metadata": {},
   "outputs": [],
   "source": [
    "#4. Print the list in reverse order\n",
    "\n",
    "ystems = ['Windows', 'macOS', 'Linux']\n",
    "systems.reverse()\n",
    "print (systems)"
   ]
  }
 ],
 "metadata": {
  "kernelspec": {
   "display_name": "Python 3",
   "language": "python",
   "name": "python3"
  },
  "language_info": {
   "codemirror_mode": {
    "name": "ipython",
    "version": 3
   },
   "file_extension": ".py",
   "mimetype": "text/x-python",
   "name": "python",
   "nbconvert_exporter": "python",
   "pygments_lexer": "ipython3",
   "version": "3.8.3"
  }
 },
 "nbformat": 4,
 "nbformat_minor": 4
}
